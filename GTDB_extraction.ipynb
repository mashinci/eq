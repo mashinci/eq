{
 "cells": [
  {
   "cell_type": "code",
   "execution_count": 3,
   "metadata": {},
   "outputs": [],
   "source": [
    "import pandas as pd"
   ]
  },
  {
   "cell_type": "code",
   "execution_count": 4,
   "metadata": {},
   "outputs": [],
   "source": [
    "df = pd.read_excel('globalterrorismdb_0522dist.xlsx')\n",
    "df = df[[\n",
    "    \"eventid\",\n",
    "    \"iyear\",\n",
    "    \"imonth\",\n",
    "    \"iday\",\n",
    "    \"country_txt\",\n",
    "    \"region_txt\",\n",
    "    \"city\",\n",
    "    \"latitude\",\n",
    "    \"longitude\",\n",
    "    \"summary\",\n",
    "    \"doubtterr\",\n",
    "    \"success\",\n",
    "    \"suicide\",\n",
    "    \"attacktype1_txt\",\n",
    "    \"attacktype2_txt\",\n",
    "    \"attacktype3_txt\",\n",
    "    \"targtype1_txt\",\n",
    "    \"targsubtype1_txt\",\n",
    "    \"target1\",\n",
    "    \"targtype2_txt\",\n",
    "    \"targsubtype2_txt\",\n",
    "    \"target2\",\n",
    "    \"gname\",\n",
    "    \"nkill\",\n",
    "    \"nwound\",\n",
    "    \"propextent_txt\",\n",
    "    \"scite1\",\n",
    "    \"scite2\",\n",
    "    \"scite3\"\n",
    "]]"
   ]
  },
  {
   "cell_type": "code",
   "execution_count": 5,
   "metadata": {},
   "outputs": [
    {
     "data": {
      "text/plain": [
       "eventid                  0\n",
       "iyear                    0\n",
       "imonth                   0\n",
       "iday                     0\n",
       "country_txt              0\n",
       "region_txt               0\n",
       "city                   426\n",
       "latitude              4691\n",
       "longitude             4692\n",
       "summary              66120\n",
       "doubtterr                0\n",
       "success                  0\n",
       "suicide                  0\n",
       "attacktype1_txt          0\n",
       "attacktype2_txt     201272\n",
       "attacktype3_txt     209048\n",
       "targtype1_txt            0\n",
       "targsubtype1_txt     11839\n",
       "target1                635\n",
       "targtype2_txt       195171\n",
       "targsubtype2_txt    195703\n",
       "target2             195296\n",
       "gname                    0\n",
       "nkill                12527\n",
       "nwound               19936\n",
       "propextent_txt      136242\n",
       "scite1               66182\n",
       "scite2              116963\n",
       "scite3              157030\n",
       "dtype: int64"
      ]
     },
     "execution_count": 5,
     "metadata": {},
     "output_type": "execute_result"
    }
   ],
   "source": [
    "df.isna().sum()"
   ]
  },
  {
   "cell_type": "code",
   "execution_count": 6,
   "metadata": {},
   "outputs": [],
   "source": [
    "df.drop([\"attacktype2_txt\", \"attacktype3_txt\", \"targtype2_txt\", \"targsubtype2_txt\", \"target2\", \"scite3\"], axis=\"columns\", inplace=True)\n",
    "# could have used 'thresh=' argument to drop columns that contain over 150k null values"
   ]
  },
  {
   "cell_type": "code",
   "execution_count": 7,
   "metadata": {},
   "outputs": [
    {
     "data": {
      "text/plain": [
       "58252"
      ]
     },
     "execution_count": 7,
     "metadata": {},
     "output_type": "execute_result"
    }
   ],
   "source": [
    "len(df[df[\"region_txt\"] == \"Middle East & North Africa\"])"
   ]
  },
  {
   "cell_type": "code",
   "execution_count": 27,
   "metadata": {},
   "outputs": [
    {
     "data": {
      "text/plain": [
       "22"
      ]
     },
     "execution_count": 27,
     "metadata": {},
     "output_type": "execute_result"
    }
   ],
   "source": [
    "len(df[df[\"country_txt\"] == \"United Arab Emirates\"])"
   ]
  },
  {
   "cell_type": "code",
   "execution_count": 21,
   "metadata": {},
   "outputs": [
    {
     "data": {
      "text/plain": [
       "604"
      ]
     },
     "execution_count": 21,
     "metadata": {},
     "output_type": "execute_result"
    }
   ],
   "source": [
    "len(df[(df[\"country_txt\"] == \"United Arab Emirates\") | (df[\"country_txt\"] == \"Saudi Arabia\")])"
   ]
  },
  {
   "cell_type": "code",
   "execution_count": 28,
   "metadata": {},
   "outputs": [
    {
     "data": {
      "text/plain": [
       "7"
      ]
     },
     "execution_count": 28,
     "metadata": {},
     "output_type": "execute_result"
    }
   ],
   "source": [
    "len(df[df[\"city\"] == \"Dubai\"])"
   ]
  }
 ],
 "metadata": {
  "kernelspec": {
   "display_name": "Python 3",
   "language": "python",
   "name": "python3"
  },
  "language_info": {
   "codemirror_mode": {
    "name": "ipython",
    "version": 3
   },
   "file_extension": ".py",
   "mimetype": "text/x-python",
   "name": "python",
   "nbconvert_exporter": "python",
   "pygments_lexer": "ipython3",
   "version": "3.10.10"
  },
  "orig_nbformat": 4,
  "vscode": {
   "interpreter": {
    "hash": "6fcacd603102690f0b88f82a4edf89ea0fdd4b550f3372b21d427338cde36282"
   }
  }
 },
 "nbformat": 4,
 "nbformat_minor": 2
}
